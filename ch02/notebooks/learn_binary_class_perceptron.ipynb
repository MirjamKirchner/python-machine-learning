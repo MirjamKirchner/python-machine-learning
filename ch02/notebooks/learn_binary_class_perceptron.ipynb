{
 "cells": [
  {
   "cell_type": "code",
   "execution_count": 1,
   "id": "bd4e9dea-2dae-470e-bd0f-fd0e52a340f6",
   "metadata": {},
   "outputs": [],
   "source": [
    "import sys\n",
    "import os\n",
    "import numpy as np"
   ]
  },
  {
   "cell_type": "code",
   "execution_count": 2,
   "id": "55aed7e2-e2b3-4385-ad08-6ea650924414",
   "metadata": {},
   "outputs": [],
   "source": [
    "sys.path.append(\"..\\\\src\")\n",
    "sys.path.append(\"..\\\\..\")"
   ]
  },
  {
   "cell_type": "code",
   "execution_count": 3,
   "id": "e02f8665-e35c-4be9-bd5b-6329194dc2af",
   "metadata": {},
   "outputs": [],
   "source": [
    "from config import PATH_TO_DATA\n",
    "\n",
    "from BinaryClassPerceptron import *"
   ]
  },
  {
   "cell_type": "code",
   "execution_count": 4,
   "id": "ffcf2b1c-331c-4a9c-9dcb-305887587c9f",
   "metadata": {},
   "outputs": [],
   "source": [
    "X = np.load(os.path.join(PATH_TO_DATA, 'training_examples_iris.npy'))\n",
    "y = np.load(os.path.join(PATH_TO_DATA, 'training_target_iris.npy'))"
   ]
  },
  {
   "cell_type": "code",
   "execution_count": 5,
   "id": "2fbe0575-9924-436c-811d-282c5c0b0368",
   "metadata": {},
   "outputs": [],
   "source": [
    "bcp = BinaryClassPerceptron()"
   ]
  },
  {
   "cell_type": "code",
   "execution_count": 6,
   "id": "67aba493-aa1e-45d3-86f7-450a1894d1b8",
   "metadata": {},
   "outputs": [
    {
     "data": {
      "text/plain": [
       "<BinaryClassPerceptron.BinaryClassPerceptron at 0x1946fcc31c0>"
      ]
     },
     "execution_count": 6,
     "metadata": {},
     "output_type": "execute_result"
    }
   ],
   "source": [
    "bcp.fit(X, y)"
   ]
  },
  {
   "cell_type": "code",
   "execution_count": 10,
   "id": "9bc3a6b6-6ef2-48e2-b141-6e88b604a7bf",
   "metadata": {},
   "outputs": [
    {
     "data": {
      "text/plain": [
       "array([0, 0, 0, 0, 0, 0, 0, 0, 0, 0, 0, 0, 0, 0, 0, 0, 0, 0, 0, 0, 0, 0,\n",
       "       0, 0, 0, 0, 0, 0, 0, 0, 0, 0, 0, 0, 0, 0, 0, 0, 0, 0, 0, 0, 0, 0,\n",
       "       0, 0, 0, 0, 0, 0, 0, 0, 0, 0, 0, 0, 0, 0, 0, 0, 0, 0, 0, 0, 0, 0,\n",
       "       0, 0, 0, 0, 0, 0, 0, 0, 0, 0, 0, 0, 0, 0, 0, 0, 0, 0, 0, 0, 0, 0,\n",
       "       0, 0, 0, 0, 0, 0, 0, 0, 0, 0, 0, 0, 0, 0, 0, 0, 0, 0, 0, 0, 0, 0,\n",
       "       0, 0, 0, 0, 0, 0, 0, 0, 0, 0, 0, 0, 0, 0, 0, 0, 0, 0, 0, 0, 0, 0,\n",
       "       0, 0, 0, 0, 0, 0, 0, 0, 0, 0, 0, 0, 0, 0, 0, 0, 0, 0])"
      ]
     },
     "execution_count": 10,
     "metadata": {},
     "output_type": "execute_result"
    }
   ],
   "source": [
    "y_hat = np.apply_along_axis(bcp.predict, 1, X)\n",
    "y_hat - y"
   ]
  }
 ],
 "metadata": {
  "kernelspec": {
   "display_name": "Python 3 (ipykernel)",
   "language": "python",
   "name": "python3"
  },
  "language_info": {
   "codemirror_mode": {
    "name": "ipython",
    "version": 3
   },
   "file_extension": ".py",
   "mimetype": "text/x-python",
   "name": "python",
   "nbconvert_exporter": "python",
   "pygments_lexer": "ipython3",
   "version": "3.8.10"
  }
 },
 "nbformat": 4,
 "nbformat_minor": 5
}
